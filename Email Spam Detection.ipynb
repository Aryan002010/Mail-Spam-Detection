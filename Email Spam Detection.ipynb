{
 "cells": [
  {
   "cell_type": "code",
   "execution_count": null,
   "id": "d9ae60e4",
   "metadata": {},
   "outputs": [],
   "source": [
    "import pandas as pd \n",
    "import numpy as np\n",
    "import matplotlib.pyplot as plt\n",
    "from sklearn.model_selection import train_test_split\n",
    "from sklearn.feature_extraction.text import TfidfVectorizer\n",
    "from sklearn.linear_model import LogisticRegression\n",
    "from sklearn.metrics import accuracy_score"
   ]
  },
  {
   "cell_type": "code",
   "execution_count": null,
   "id": "a6b3879e",
   "metadata": {},
   "outputs": [],
   "source": [
    "# Data collection and Preprocessing"
   ]
  },
  {
   "cell_type": "code",
   "execution_count": null,
   "id": "40e4c83f",
   "metadata": {},
   "outputs": [],
   "source": [
    "mail = pd.read_csv('mail_data.csv')\n",
    "mail.head()"
   ]
  },
  {
   "cell_type": "code",
   "execution_count": null,
   "id": "a05ca28b",
   "metadata": {},
   "outputs": [],
   "source": [
    "mail.isnull().sum()"
   ]
  },
  {
   "cell_type": "code",
   "execution_count": null,
   "id": "e74ab9a8",
   "metadata": {},
   "outputs": [],
   "source": [
    "mail.shape"
   ]
  },
  {
   "cell_type": "code",
   "execution_count": null,
   "id": "e09cf3b3",
   "metadata": {},
   "outputs": [],
   "source": []
  },
  {
   "cell_type": "code",
   "execution_count": null,
   "id": "eed75afe",
   "metadata": {},
   "outputs": [],
   "source": [
    "# label Encoding on category column\n",
    "# spam - 0\n",
    "# ham - 1"
   ]
  },
  {
   "cell_type": "code",
   "execution_count": null,
   "id": "401049eb",
   "metadata": {},
   "outputs": [],
   "source": [
    "mail.replace({'Category': {'spam' :0, 'ham' :1}}, inplace=True)"
   ]
  },
  {
   "cell_type": "code",
   "execution_count": null,
   "id": "fe884a9e",
   "metadata": {},
   "outputs": [],
   "source": [
    "mail.head()"
   ]
  },
  {
   "cell_type": "code",
   "execution_count": null,
   "id": "daa8ef4f",
   "metadata": {},
   "outputs": [],
   "source": []
  },
  {
   "cell_type": "code",
   "execution_count": null,
   "id": "436b1405",
   "metadata": {},
   "outputs": [],
   "source": [
    "# seperating 2 columns"
   ]
  },
  {
   "cell_type": "code",
   "execution_count": null,
   "id": "75ac95dd",
   "metadata": {},
   "outputs": [],
   "source": [
    "X = mail['Message']\n",
    "Y = mail['Category']\n"
   ]
  },
  {
   "cell_type": "code",
   "execution_count": null,
   "id": "118dfbe7",
   "metadata": {},
   "outputs": [],
   "source": [
    "print(X)"
   ]
  },
  {
   "cell_type": "code",
   "execution_count": null,
   "id": "cc1a8917",
   "metadata": {},
   "outputs": [],
   "source": [
    "print(Y)"
   ]
  },
  {
   "cell_type": "code",
   "execution_count": null,
   "id": "e331e085",
   "metadata": {},
   "outputs": [],
   "source": []
  },
  {
   "cell_type": "code",
   "execution_count": null,
   "id": "3bd26c1d",
   "metadata": {},
   "outputs": [],
   "source": [
    "# splitting test data and training data"
   ]
  },
  {
   "cell_type": "code",
   "execution_count": null,
   "id": "081c9db8",
   "metadata": {},
   "outputs": [],
   "source": [
    "X_train, X_test, Y_train, Y_test = train_test_split(X, Y, test_size=0.2, random_state = 2)"
   ]
  },
  {
   "cell_type": "code",
   "execution_count": null,
   "id": "935f36ba",
   "metadata": {},
   "outputs": [],
   "source": [
    "print(X.shape, X_train.shape, X_test.shape)"
   ]
  },
  {
   "cell_type": "code",
   "execution_count": null,
   "id": "66bf8474",
   "metadata": {},
   "outputs": [],
   "source": []
  },
  {
   "cell_type": "code",
   "execution_count": null,
   "id": "1c3a6b4b",
   "metadata": {},
   "outputs": [],
   "source": [
    "# feature extraction"
   ]
  },
  {
   "cell_type": "code",
   "execution_count": null,
   "id": "d7f0495f",
   "metadata": {},
   "outputs": [],
   "source": [
    "# transform the test data to feature vectors that can be used as input to the logistic regression\n",
    "# TF-IDF :- 1) Term Frequency-Inverse Document Frequency\n",
    "#           2) it is used to count the number of times each word appears in a documents"
   ]
  },
  {
   "cell_type": "code",
   "execution_count": null,
   "id": "1bb0464c",
   "metadata": {},
   "outputs": [],
   "source": [
    "feature_extraction = TfidfVectorizer(min_df=1, stop_words='english', lowercase=True)"
   ]
  },
  {
   "cell_type": "code",
   "execution_count": null,
   "id": "475a9d58",
   "metadata": {},
   "outputs": [],
   "source": [
    "X_train_feature = feature_extraction.fit_transform(X_train)\n",
    "X_test_feature = feature_extraction.transform(X_test)\n",
    "# in X_test_features \n",
    "# fit will not come because we dont want to look our model on the x_test data"
   ]
  },
  {
   "cell_type": "code",
   "execution_count": null,
   "id": "f4f2ed63",
   "metadata": {},
   "outputs": [],
   "source": [
    "print(X_train_feature)"
   ]
  },
  {
   "cell_type": "code",
   "execution_count": null,
   "id": "c4941dc8",
   "metadata": {},
   "outputs": [],
   "source": [
    "print(X_test_feature)"
   ]
  },
  {
   "cell_type": "code",
   "execution_count": null,
   "id": "b3967926",
   "metadata": {},
   "outputs": [],
   "source": [
    "# converting Y_train and Y_test into integer"
   ]
  },
  {
   "cell_type": "code",
   "execution_count": null,
   "id": "8acf67be",
   "metadata": {},
   "outputs": [],
   "source": [
    "Y_train = Y_train.astype('int')\n",
    "Y_test = Y_test.astype('int')"
   ]
  },
  {
   "cell_type": "code",
   "execution_count": null,
   "id": "a5ede789",
   "metadata": {},
   "outputs": [],
   "source": [
    "print(Y_train)"
   ]
  },
  {
   "cell_type": "code",
   "execution_count": null,
   "id": "a552d569",
   "metadata": {},
   "outputs": [],
   "source": [
    " "
   ]
  },
  {
   "cell_type": "code",
   "execution_count": null,
   "id": "b796b6f9",
   "metadata": {},
   "outputs": [],
   "source": [
    "# Logistic Regression"
   ]
  },
  {
   "cell_type": "code",
   "execution_count": null,
   "id": "8c0bd525",
   "metadata": {},
   "outputs": [],
   "source": [
    "from sklearn.linear_model import LogisticRegression"
   ]
  },
  {
   "cell_type": "code",
   "execution_count": null,
   "id": "ab2eac60",
   "metadata": {},
   "outputs": [],
   "source": [
    "model = LogisticRegression()"
   ]
  },
  {
   "cell_type": "code",
   "execution_count": null,
   "id": "f6c3da9c",
   "metadata": {},
   "outputs": [],
   "source": [
    "# training the LR model with training data"
   ]
  },
  {
   "cell_type": "code",
   "execution_count": null,
   "id": "a2a8f8af",
   "metadata": {},
   "outputs": [],
   "source": [
    "model.fit(X_train_feature, Y_train)"
   ]
  },
  {
   "cell_type": "code",
   "execution_count": null,
   "id": "1f9667c6",
   "metadata": {},
   "outputs": [],
   "source": []
  },
  {
   "cell_type": "code",
   "execution_count": null,
   "id": "6fc5f1a7",
   "metadata": {},
   "outputs": [],
   "source": [
    "# evaluating the model"
   ]
  },
  {
   "cell_type": "code",
   "execution_count": null,
   "id": "3cff2213",
   "metadata": {},
   "outputs": [],
   "source": [
    "print('Accuracy: ', model.score(X_train_feature, Y_train)*100)"
   ]
  },
  {
   "cell_type": "code",
   "execution_count": null,
   "id": "d499a9bc",
   "metadata": {},
   "outputs": [],
   "source": []
  },
  {
   "cell_type": "code",
   "execution_count": null,
   "id": "843a547f",
   "metadata": {},
   "outputs": [],
   "source": [
    "# prediction on test data"
   ]
  },
  {
   "cell_type": "code",
   "execution_count": null,
   "id": "c30a4272",
   "metadata": {},
   "outputs": [],
   "source": [
    "print('Accuracy: ', model.score(X_test_feature, Y_test)*100)"
   ]
  },
  {
   "cell_type": "code",
   "execution_count": null,
   "id": "f1531180",
   "metadata": {},
   "outputs": [],
   "source": []
  },
  {
   "cell_type": "code",
   "execution_count": null,
   "id": "080c1dde",
   "metadata": {},
   "outputs": [],
   "source": [
    "# building a predictive system "
   ]
  },
  {
   "cell_type": "code",
   "execution_count": null,
   "id": "5fe2e265",
   "metadata": {},
   "outputs": [],
   "source": [
    "input_mail = [\"Nah I don't think he goes to usf, he lives around here though\"]\n",
    "\n",
    "# convert text to feature vectors\n",
    "input_data_features = feature_extraction.transform(input_mail)\n",
    "\n",
    "# making prediction\n",
    "\n",
    "mail_prediction = model.predict(input_data_features)\n",
    "print(mail_prediction)\n",
    "\n",
    "if mail_prediction == 1:\n",
    "    print(\"It is an ham mail\")\n",
    "    \n",
    "else:\n",
    "    print(\"It is an spam mail\")\n",
    "    "
   ]
  },
  {
   "cell_type": "code",
   "execution_count": null,
   "id": "32277e21",
   "metadata": {},
   "outputs": [],
   "source": []
  }
 ],
 "metadata": {
  "kernelspec": {
   "display_name": "Python 3 (ipykernel)",
   "language": "python",
   "name": "python3"
  },
  "language_info": {
   "codemirror_mode": {
    "name": "ipython",
    "version": 3
   },
   "file_extension": ".py",
   "mimetype": "text/x-python",
   "name": "python",
   "nbconvert_exporter": "python",
   "pygments_lexer": "ipython3",
   "version": "3.9.13"
  }
 },
 "nbformat": 4,
 "nbformat_minor": 5
}
